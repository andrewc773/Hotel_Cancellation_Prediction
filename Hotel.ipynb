{
 "cells": [
  {
   "cell_type": "markdown",
   "id": "c726e273-3858-4da4-a890-13a5751a8a9a",
   "metadata": {},
   "source": [
    "# Importing the libraries and loading in the dataset"
   ]
  },
  {
   "cell_type": "code",
   "execution_count": 1,
   "id": "92dc18c1-7bc3-4fce-b9da-b045c1745765",
   "metadata": {},
   "outputs": [],
   "source": [
    "# Import the necessary libraries\n",
    "import pandas as pd\n",
    "import numpy as np\n",
    "import matplotlib.pyplot as plt\n",
    "import statsmodels.api as sm\n",
    "import seaborn as sns\n",
    "from sklearn.linear_model import LogisticRegression\n",
    "from sklearn.model_selection import KFold\n",
    "from sklearn.model_selection import cross_validate"
   ]
  },
  {
   "cell_type": "code",
   "execution_count": 2,
   "id": "05e318f9-5833-42fb-84b2-b31e279c25dd",
   "metadata": {},
   "outputs": [],
   "source": [
    "df = pd.read_csv('/Users/andrewchavarria/Desktop/JupyterLab/HotelReservation/Hotel_Reservations.csv')"
   ]
  },
  {
   "cell_type": "markdown",
   "id": "9b79b4ef-bc02-4a9a-bf2a-ad7405d25579",
   "metadata": {},
   "source": [
    "# Exploring the dataset"
   ]
  },
  {
   "cell_type": "code",
   "execution_count": 3,
   "id": "b203b471-855e-4cd7-b603-c110d653381b",
   "metadata": {},
   "outputs": [
    {
     "name": "stdout",
     "output_type": "stream",
     "text": [
      "<class 'pandas.core.frame.DataFrame'>\n",
      "RangeIndex: 36275 entries, 0 to 36274\n",
      "Data columns (total 19 columns):\n",
      " #   Column                                Non-Null Count  Dtype  \n",
      "---  ------                                --------------  -----  \n",
      " 0   Booking_ID                            36275 non-null  object \n",
      " 1   no_of_adults                          36275 non-null  int64  \n",
      " 2   no_of_children                        36275 non-null  int64  \n",
      " 3   no_of_weekend_nights                  36275 non-null  int64  \n",
      " 4   no_of_week_nights                     36275 non-null  int64  \n",
      " 5   type_of_meal_plan                     36275 non-null  object \n",
      " 6   required_car_parking_space            36275 non-null  int64  \n",
      " 7   room_type_reserved                    36275 non-null  object \n",
      " 8   lead_time                             36275 non-null  int64  \n",
      " 9   arrival_year                          36275 non-null  int64  \n",
      " 10  arrival_month                         36275 non-null  int64  \n",
      " 11  arrival_date                          36275 non-null  int64  \n",
      " 12  market_segment_type                   36275 non-null  object \n",
      " 13  repeated_guest                        36275 non-null  int64  \n",
      " 14  no_of_previous_cancellations          36275 non-null  int64  \n",
      " 15  no_of_previous_bookings_not_canceled  36275 non-null  int64  \n",
      " 16  avg_price_per_room                    36275 non-null  float64\n",
      " 17  no_of_special_requests                36275 non-null  int64  \n",
      " 18  booking_status                        36275 non-null  object \n",
      "dtypes: float64(1), int64(13), object(5)\n",
      "memory usage: 5.3+ MB\n"
     ]
    }
   ],
   "source": [
    "df.info()"
   ]
  },
  {
   "cell_type": "code",
   "execution_count": 4,
   "id": "dcda316e-a135-4f38-a57d-fa22725562eb",
   "metadata": {},
   "outputs": [
    {
     "data": {
      "text/plain": [
       "(36275, 19)"
      ]
     },
     "execution_count": 4,
     "metadata": {},
     "output_type": "execute_result"
    }
   ],
   "source": [
    "df.shape"
   ]
  },
  {
   "cell_type": "code",
   "execution_count": 5,
   "id": "9c69bfbf-e61a-4230-b005-bc8eebe35581",
   "metadata": {},
   "outputs": [
    {
     "data": {
      "text/html": [
       "<div>\n",
       "<style scoped>\n",
       "    .dataframe tbody tr th:only-of-type {\n",
       "        vertical-align: middle;\n",
       "    }\n",
       "\n",
       "    .dataframe tbody tr th {\n",
       "        vertical-align: top;\n",
       "    }\n",
       "\n",
       "    .dataframe thead th {\n",
       "        text-align: right;\n",
       "    }\n",
       "</style>\n",
       "<table border=\"1\" class=\"dataframe\">\n",
       "  <thead>\n",
       "    <tr style=\"text-align: right;\">\n",
       "      <th></th>\n",
       "      <th>Booking_ID</th>\n",
       "      <th>no_of_adults</th>\n",
       "      <th>no_of_children</th>\n",
       "      <th>no_of_weekend_nights</th>\n",
       "      <th>no_of_week_nights</th>\n",
       "      <th>type_of_meal_plan</th>\n",
       "      <th>required_car_parking_space</th>\n",
       "      <th>room_type_reserved</th>\n",
       "      <th>lead_time</th>\n",
       "      <th>arrival_year</th>\n",
       "      <th>arrival_month</th>\n",
       "      <th>arrival_date</th>\n",
       "      <th>market_segment_type</th>\n",
       "      <th>repeated_guest</th>\n",
       "      <th>no_of_previous_cancellations</th>\n",
       "      <th>no_of_previous_bookings_not_canceled</th>\n",
       "      <th>no_of_special_requests</th>\n",
       "      <th>booking_status</th>\n",
       "    </tr>\n",
       "  </thead>\n",
       "  <tbody>\n",
       "    <tr>\n",
       "      <th>count</th>\n",
       "      <td>36275</td>\n",
       "      <td>36275.00</td>\n",
       "      <td>36275.00</td>\n",
       "      <td>36275.00</td>\n",
       "      <td>36275.00</td>\n",
       "      <td>36275</td>\n",
       "      <td>36275.00</td>\n",
       "      <td>36275</td>\n",
       "      <td>36275.00</td>\n",
       "      <td>36275.00</td>\n",
       "      <td>36275.00</td>\n",
       "      <td>36275.00</td>\n",
       "      <td>36275</td>\n",
       "      <td>36275.00</td>\n",
       "      <td>36275.00</td>\n",
       "      <td>36275.00</td>\n",
       "      <td>36275.00</td>\n",
       "      <td>36275</td>\n",
       "    </tr>\n",
       "    <tr>\n",
       "      <th>unique</th>\n",
       "      <td>36275</td>\n",
       "      <td>NaN</td>\n",
       "      <td>NaN</td>\n",
       "      <td>NaN</td>\n",
       "      <td>NaN</td>\n",
       "      <td>4</td>\n",
       "      <td>NaN</td>\n",
       "      <td>7</td>\n",
       "      <td>NaN</td>\n",
       "      <td>NaN</td>\n",
       "      <td>NaN</td>\n",
       "      <td>NaN</td>\n",
       "      <td>5</td>\n",
       "      <td>NaN</td>\n",
       "      <td>NaN</td>\n",
       "      <td>NaN</td>\n",
       "      <td>NaN</td>\n",
       "      <td>2</td>\n",
       "    </tr>\n",
       "    <tr>\n",
       "      <th>top</th>\n",
       "      <td>INN00001</td>\n",
       "      <td>NaN</td>\n",
       "      <td>NaN</td>\n",
       "      <td>NaN</td>\n",
       "      <td>NaN</td>\n",
       "      <td>Meal Plan 1</td>\n",
       "      <td>NaN</td>\n",
       "      <td>Room_Type 1</td>\n",
       "      <td>NaN</td>\n",
       "      <td>NaN</td>\n",
       "      <td>NaN</td>\n",
       "      <td>NaN</td>\n",
       "      <td>Online</td>\n",
       "      <td>NaN</td>\n",
       "      <td>NaN</td>\n",
       "      <td>NaN</td>\n",
       "      <td>NaN</td>\n",
       "      <td>Not_Canceled</td>\n",
       "    </tr>\n",
       "    <tr>\n",
       "      <th>freq</th>\n",
       "      <td>1</td>\n",
       "      <td>NaN</td>\n",
       "      <td>NaN</td>\n",
       "      <td>NaN</td>\n",
       "      <td>NaN</td>\n",
       "      <td>27835</td>\n",
       "      <td>NaN</td>\n",
       "      <td>28130</td>\n",
       "      <td>NaN</td>\n",
       "      <td>NaN</td>\n",
       "      <td>NaN</td>\n",
       "      <td>NaN</td>\n",
       "      <td>23214</td>\n",
       "      <td>NaN</td>\n",
       "      <td>NaN</td>\n",
       "      <td>NaN</td>\n",
       "      <td>NaN</td>\n",
       "      <td>24390</td>\n",
       "    </tr>\n",
       "    <tr>\n",
       "      <th>mean</th>\n",
       "      <td>NaN</td>\n",
       "      <td>1.84</td>\n",
       "      <td>0.11</td>\n",
       "      <td>0.81</td>\n",
       "      <td>2.20</td>\n",
       "      <td>NaN</td>\n",
       "      <td>0.03</td>\n",
       "      <td>NaN</td>\n",
       "      <td>85.23</td>\n",
       "      <td>2017.82</td>\n",
       "      <td>7.42</td>\n",
       "      <td>15.60</td>\n",
       "      <td>NaN</td>\n",
       "      <td>0.03</td>\n",
       "      <td>0.02</td>\n",
       "      <td>0.15</td>\n",
       "      <td>0.62</td>\n",
       "      <td>NaN</td>\n",
       "    </tr>\n",
       "    <tr>\n",
       "      <th>std</th>\n",
       "      <td>NaN</td>\n",
       "      <td>0.52</td>\n",
       "      <td>0.40</td>\n",
       "      <td>0.87</td>\n",
       "      <td>1.41</td>\n",
       "      <td>NaN</td>\n",
       "      <td>0.17</td>\n",
       "      <td>NaN</td>\n",
       "      <td>85.93</td>\n",
       "      <td>0.38</td>\n",
       "      <td>3.07</td>\n",
       "      <td>8.74</td>\n",
       "      <td>NaN</td>\n",
       "      <td>0.16</td>\n",
       "      <td>0.37</td>\n",
       "      <td>1.75</td>\n",
       "      <td>0.79</td>\n",
       "      <td>NaN</td>\n",
       "    </tr>\n",
       "    <tr>\n",
       "      <th>min</th>\n",
       "      <td>NaN</td>\n",
       "      <td>0.00</td>\n",
       "      <td>0.00</td>\n",
       "      <td>0.00</td>\n",
       "      <td>0.00</td>\n",
       "      <td>NaN</td>\n",
       "      <td>0.00</td>\n",
       "      <td>NaN</td>\n",
       "      <td>0.00</td>\n",
       "      <td>2017.00</td>\n",
       "      <td>1.00</td>\n",
       "      <td>1.00</td>\n",
       "      <td>NaN</td>\n",
       "      <td>0.00</td>\n",
       "      <td>0.00</td>\n",
       "      <td>0.00</td>\n",
       "      <td>0.00</td>\n",
       "      <td>NaN</td>\n",
       "    </tr>\n",
       "    <tr>\n",
       "      <th>25%</th>\n",
       "      <td>NaN</td>\n",
       "      <td>2.00</td>\n",
       "      <td>0.00</td>\n",
       "      <td>0.00</td>\n",
       "      <td>1.00</td>\n",
       "      <td>NaN</td>\n",
       "      <td>0.00</td>\n",
       "      <td>NaN</td>\n",
       "      <td>17.00</td>\n",
       "      <td>2018.00</td>\n",
       "      <td>5.00</td>\n",
       "      <td>8.00</td>\n",
       "      <td>NaN</td>\n",
       "      <td>0.00</td>\n",
       "      <td>0.00</td>\n",
       "      <td>0.00</td>\n",
       "      <td>0.00</td>\n",
       "      <td>NaN</td>\n",
       "    </tr>\n",
       "    <tr>\n",
       "      <th>50%</th>\n",
       "      <td>NaN</td>\n",
       "      <td>2.00</td>\n",
       "      <td>0.00</td>\n",
       "      <td>1.00</td>\n",
       "      <td>2.00</td>\n",
       "      <td>NaN</td>\n",
       "      <td>0.00</td>\n",
       "      <td>NaN</td>\n",
       "      <td>57.00</td>\n",
       "      <td>2018.00</td>\n",
       "      <td>8.00</td>\n",
       "      <td>16.00</td>\n",
       "      <td>NaN</td>\n",
       "      <td>0.00</td>\n",
       "      <td>0.00</td>\n",
       "      <td>0.00</td>\n",
       "      <td>0.00</td>\n",
       "      <td>NaN</td>\n",
       "    </tr>\n",
       "    <tr>\n",
       "      <th>75%</th>\n",
       "      <td>NaN</td>\n",
       "      <td>2.00</td>\n",
       "      <td>0.00</td>\n",
       "      <td>2.00</td>\n",
       "      <td>3.00</td>\n",
       "      <td>NaN</td>\n",
       "      <td>0.00</td>\n",
       "      <td>NaN</td>\n",
       "      <td>126.00</td>\n",
       "      <td>2018.00</td>\n",
       "      <td>10.00</td>\n",
       "      <td>23.00</td>\n",
       "      <td>NaN</td>\n",
       "      <td>0.00</td>\n",
       "      <td>0.00</td>\n",
       "      <td>0.00</td>\n",
       "      <td>1.00</td>\n",
       "      <td>NaN</td>\n",
       "    </tr>\n",
       "    <tr>\n",
       "      <th>max</th>\n",
       "      <td>NaN</td>\n",
       "      <td>4.00</td>\n",
       "      <td>10.00</td>\n",
       "      <td>7.00</td>\n",
       "      <td>17.00</td>\n",
       "      <td>NaN</td>\n",
       "      <td>1.00</td>\n",
       "      <td>NaN</td>\n",
       "      <td>443.00</td>\n",
       "      <td>2018.00</td>\n",
       "      <td>12.00</td>\n",
       "      <td>31.00</td>\n",
       "      <td>NaN</td>\n",
       "      <td>1.00</td>\n",
       "      <td>13.00</td>\n",
       "      <td>58.00</td>\n",
       "      <td>5.00</td>\n",
       "      <td>NaN</td>\n",
       "    </tr>\n",
       "  </tbody>\n",
       "</table>\n",
       "</div>"
      ],
      "text/plain": [
       "       Booking_ID  no_of_adults  no_of_children  no_of_weekend_nights  \\\n",
       "count       36275      36275.00        36275.00              36275.00   \n",
       "unique      36275           NaN             NaN                   NaN   \n",
       "top      INN00001           NaN             NaN                   NaN   \n",
       "freq            1           NaN             NaN                   NaN   \n",
       "mean          NaN          1.84            0.11                  0.81   \n",
       "std           NaN          0.52            0.40                  0.87   \n",
       "min           NaN          0.00            0.00                  0.00   \n",
       "25%           NaN          2.00            0.00                  0.00   \n",
       "50%           NaN          2.00            0.00                  1.00   \n",
       "75%           NaN          2.00            0.00                  2.00   \n",
       "max           NaN          4.00           10.00                  7.00   \n",
       "\n",
       "        no_of_week_nights type_of_meal_plan  required_car_parking_space  \\\n",
       "count            36275.00             36275                    36275.00   \n",
       "unique                NaN                 4                         NaN   \n",
       "top                   NaN       Meal Plan 1                         NaN   \n",
       "freq                  NaN             27835                         NaN   \n",
       "mean                 2.20               NaN                        0.03   \n",
       "std                  1.41               NaN                        0.17   \n",
       "min                  0.00               NaN                        0.00   \n",
       "25%                  1.00               NaN                        0.00   \n",
       "50%                  2.00               NaN                        0.00   \n",
       "75%                  3.00               NaN                        0.00   \n",
       "max                 17.00               NaN                        1.00   \n",
       "\n",
       "       room_type_reserved  lead_time  arrival_year  arrival_month  \\\n",
       "count               36275   36275.00      36275.00       36275.00   \n",
       "unique                  7        NaN           NaN            NaN   \n",
       "top           Room_Type 1        NaN           NaN            NaN   \n",
       "freq                28130        NaN           NaN            NaN   \n",
       "mean                  NaN      85.23       2017.82           7.42   \n",
       "std                   NaN      85.93          0.38           3.07   \n",
       "min                   NaN       0.00       2017.00           1.00   \n",
       "25%                   NaN      17.00       2018.00           5.00   \n",
       "50%                   NaN      57.00       2018.00           8.00   \n",
       "75%                   NaN     126.00       2018.00          10.00   \n",
       "max                   NaN     443.00       2018.00          12.00   \n",
       "\n",
       "        arrival_date market_segment_type  repeated_guest  \\\n",
       "count       36275.00               36275        36275.00   \n",
       "unique           NaN                   5             NaN   \n",
       "top              NaN              Online             NaN   \n",
       "freq             NaN               23214             NaN   \n",
       "mean           15.60                 NaN            0.03   \n",
       "std             8.74                 NaN            0.16   \n",
       "min             1.00                 NaN            0.00   \n",
       "25%             8.00                 NaN            0.00   \n",
       "50%            16.00                 NaN            0.00   \n",
       "75%            23.00                 NaN            0.00   \n",
       "max            31.00                 NaN            1.00   \n",
       "\n",
       "        no_of_previous_cancellations  no_of_previous_bookings_not_canceled  \\\n",
       "count                       36275.00                              36275.00   \n",
       "unique                           NaN                                   NaN   \n",
       "top                              NaN                                   NaN   \n",
       "freq                             NaN                                   NaN   \n",
       "mean                            0.02                                  0.15   \n",
       "std                             0.37                                  1.75   \n",
       "min                             0.00                                  0.00   \n",
       "25%                             0.00                                  0.00   \n",
       "50%                             0.00                                  0.00   \n",
       "75%                             0.00                                  0.00   \n",
       "max                            13.00                                 58.00   \n",
       "\n",
       "        no_of_special_requests booking_status  \n",
       "count                 36275.00          36275  \n",
       "unique                     NaN              2  \n",
       "top                        NaN   Not_Canceled  \n",
       "freq                       NaN          24390  \n",
       "mean                      0.62            NaN  \n",
       "std                       0.79            NaN  \n",
       "min                       0.00            NaN  \n",
       "25%                       0.00            NaN  \n",
       "50%                       0.00            NaN  \n",
       "75%                       1.00            NaN  \n",
       "max                       5.00            NaN  "
      ]
     },
     "execution_count": 5,
     "metadata": {},
     "output_type": "execute_result"
    }
   ],
   "source": [
    "pd.set_option(\"display.max.columns\", None)\n",
    "pd.set_option(\"display.precision\", 2)\n",
    "df.describe(include=[object, int])"
   ]
  },
  {
   "cell_type": "code",
   "execution_count": 6,
   "id": "5ae33a15-ba99-458e-b7ab-f741d7b9c1e0",
   "metadata": {},
   "outputs": [
    {
     "name": "stdout",
     "output_type": "stream",
     "text": [
      "Column: Booking_ID = ['INN00001' 'INN00002' 'INN00003' ... 'INN36273' 'INN36274' 'INN36275']\n",
      "Column: no_of_adults = [2 1 3 0 4]\n",
      "Column: no_of_children = [ 0  2  1  3 10  9]\n",
      "Column: no_of_weekend_nights = [1 2 0 4 3 6 5 7]\n",
      "Column: no_of_week_nights = [ 2  3  1  4  5  0 10  6 11  7 15  9 13  8 14 12 17 16]\n",
      "Column: type_of_meal_plan = ['Meal Plan 1' 'Not Selected' 'Meal Plan 2' 'Meal Plan 3']\n",
      "Column: required_car_parking_space = [0 1]\n",
      "Column: room_type_reserved = ['Room_Type 1' 'Room_Type 4' 'Room_Type 2' 'Room_Type 6' 'Room_Type 5'\n",
      " 'Room_Type 7' 'Room_Type 3']\n",
      "Column: lead_time = [224   5   1 211  48 346  34  83 121  44   0  35  30  95  47 256  99  12\n",
      " 122   2  37 130  60  56   3 107  72  23 289 247 186  64  96  41  55 146\n",
      "  32  57   7 124 169   6  51  13 100 139 117  39  86  19 192 179  26  74\n",
      " 143 177  18 267 155  46 128  20  40 196 188  17 110  68  73  92 171 134\n",
      " 320 118 189  16  24   8  10 182 116 123 105 443 317 286 148  14  85  25\n",
      "  28  80  11 162  82  27 245 266 112  88  69 273   4  97  31  62 197 280\n",
      " 185 160 104  22 292 109 126 303  81  54  15 161 147  87 127 418 156  58\n",
      " 433 111 195 119  59  78 335 103  70  76 144  49  77  36  79  21  33 164\n",
      " 152  43 102  71 209  93  53 302 239  45 167 113  84   9 166 174  61 151\n",
      "  52  67 282  38 175  89 133  65  66  50 159 386 115 237 125  91  29 221\n",
      " 213 198  75 180 236 120 230  63 136 309 157 268 217  94 305  98  42 154\n",
      " 330 137 184 232 304 114 257 265 191 101 259 149 170 271 207 108 210 222\n",
      " 296 194 145 153 275 158 301 349 200 315 181 263 176 141 270 150 359 244\n",
      " 219 142 138 276 178 163 377 290 216 226 258 254 193 131 208 215 190 381\n",
      " 231 248 106 308 140 173 168 172  90 249 205 129 212 135 220 277 253 132\n",
      " 183 255 223 336 288 229 319 199 203 228 246 235 294 281 202 361 287 291\n",
      " 313 206 269 279 261 214 274 250 187 240 241 323 322 227 225 233 338 283\n",
      " 327 204 352 165 251 299 314 285 238 328 278 332 243 201 307 272 252 242\n",
      " 284 297 324 260 262 326 295 218 234 353 300 355 306 298 331 341 318 333\n",
      " 372 311 310 345 264 325 293 348 350 351]\n",
      "Column: arrival_year = [2017 2018]\n",
      "Column: arrival_month = [10 11  2  5  4  9 12  7  6  8  3  1]\n",
      "Column: arrival_date = [ 2  6 28 20 11 13 15 26 18 30  5 10  4 25 22 21 19 17  7  9 27  1 29 16\n",
      "  3 24 14 31 23  8 12]\n",
      "Column: market_segment_type = ['Offline' 'Online' 'Corporate' 'Aviation' 'Complementary']\n",
      "Column: repeated_guest = [0 1]\n",
      "Column: no_of_previous_cancellations = [ 0  3  1  2 11  4  5 13  6]\n",
      "Column: no_of_previous_bookings_not_canceled = [ 0  5  1  3  4 12 19  2 15 17  7 20 16 50 13  6 14 34 18  8 10 23 11 49\n",
      " 47 53  9 33 22 24 52 21 48 28 39 25 31 38 26 51 42 37 35 56 44 27 32 55\n",
      " 45 30 57 46 54 43 58 41 29 40 36]\n",
      "Column: avg_price_per_room = [ 65.   106.68  60.   ... 118.43 137.25 167.8 ]\n",
      "Column: no_of_special_requests = [0 1 3 2 4 5]\n",
      "Column: booking_status = ['Not_Canceled' 'Canceled']\n"
     ]
    }
   ],
   "source": [
    "for col in df.columns:\n",
    "    print(\"Column: \"+ str(col)+\" = \"+ str(df[col].unique()))"
   ]
  },
  {
   "cell_type": "code",
   "execution_count": 7,
   "id": "0fbf5879-f910-4411-a550-9a289d7cce4a",
   "metadata": {},
   "outputs": [
    {
     "name": "stdout",
     "output_type": "stream",
     "text": [
      "Missing values in the dataset?: False\n"
     ]
    }
   ],
   "source": [
    "# Returns whether or not our dataframe contains any null values. There are no values indicated in the dataset dictionary \n",
    "# indicating that another value would representing missing data.\n",
    "print(\"Missing values in the dataset?: \"+ str(df.isnull().values.any()))"
   ]
  },
  {
   "cell_type": "markdown",
   "id": "24942374-40da-4f16-b1c7-6840752909c7",
   "metadata": {},
   "source": [
    "# Preprocessing and Feature Engineering"
   ]
  },
  {
   "cell_type": "code",
   "execution_count": 8,
   "id": "44d36e68-1a37-448f-8ee8-7dceb12f1a2d",
   "metadata": {},
   "outputs": [],
   "source": [
    "# Remove Booking_ID since this feature is irrelevant to predicting a cancellation\n",
    "df = df.drop('Booking_ID',axis=1)"
   ]
  },
  {
   "cell_type": "markdown",
   "id": "1e41de92-da0d-4610-9d11-ccaafcd66256",
   "metadata": {},
   "source": [
    "Features market_segment_type, booking_status, type_of_meal_plan, room_type_reserved need to be encoded. All of these featues have a relatively small number of categories (no greater than 7), so we will use one-hot enconding."
   ]
  },
  {
   "cell_type": "code",
   "execution_count": 9,
   "id": "460e72b0-02de-4675-8b1f-7ce3aa0776e4",
   "metadata": {},
   "outputs": [],
   "source": [
    "# Encode booking_status\n",
    "df = pd.get_dummies(df, columns=['booking_status'],drop_first=True)\n",
    "df = pd.get_dummies(df, columns=['type_of_meal_plan'],drop_first=True)\n",
    "df = pd.get_dummies(df, columns=['room_type_reserved'], drop_first=True)"
   ]
  },
  {
   "cell_type": "code",
   "execution_count": 10,
   "id": "1111c993-15ea-4620-b28b-5c905e835ce9",
   "metadata": {},
   "outputs": [],
   "source": [
    "# market_segment_type is handled differently because the first column is not one of the most common types. \n",
    "# Removing market_segment_type_Online reduces VIF greater than any other type\n",
    "df = pd.get_dummies(df, columns=['market_segment_type'],drop_first=False)\n",
    "df = df.drop('market_segment_type_Online', axis=1)"
   ]
  },
  {
   "cell_type": "code",
   "execution_count": 11,
   "id": "106b6ae0-d164-45c5-8197-007cab72a7d8",
   "metadata": {},
   "outputs": [],
   "source": [
    "df['arrival_year'] = df.apply(lambda row: 1 if ((row['arrival_year'] == 2018)) else 0, axis=1)"
   ]
  },
  {
   "cell_type": "code",
   "execution_count": 12,
   "id": "421f2433-d76a-4ce4-b2e9-cc8208a294b4",
   "metadata": {},
   "outputs": [],
   "source": [
    "# Create feature that captures range for time of month\n",
    "df['time_of_month'] = df.apply(lambda row: 'beginning' if ((row['arrival_date'] < 11)) else \n",
    "                               ('Middle' if ((row['arrival_date'] < 22)) else 'End' ), axis=1)"
   ]
  },
  {
   "cell_type": "code",
   "execution_count": 13,
   "id": "615d1256-f9e7-426a-a7b3-1921fe2ec1d0",
   "metadata": {},
   "outputs": [],
   "source": [
    "df = df.drop('arrival_date', axis=1)\n",
    "df = pd.get_dummies(df, columns=['time_of_month'], drop_first=True)"
   ]
  },
  {
   "cell_type": "markdown",
   "id": "0aa6e4a7-7cfe-483a-a2d1-bd45f2b6298c",
   "metadata": {},
   "source": [
    "We are ready to visualize the data."
   ]
  },
  {
   "cell_type": "markdown",
   "id": "ec0924bd-4504-4847-b490-31202e5095c1",
   "metadata": {},
   "source": [
    "# Data Visualization"
   ]
  },
  {
   "cell_type": "code",
   "execution_count": 14,
   "id": "fb152d5d-3739-4816-8611-7a84d8ec1338",
   "metadata": {},
   "outputs": [
    {
     "data": {
      "text/plain": [
       "<matplotlib.collections.PathCollection at 0x7fe4806d7640>"
      ]
     },
     "execution_count": 14,
     "metadata": {},
     "output_type": "execute_result"
    },
    {
     "data": {
      "image/png": "[encoded data removed]",
      "text/plain": [
       "<Figure size 1400x1000 with 1 Axes>"
      ]
     },
     "metadata": {},
     "output_type": "display_data"
    }
   ],
   "source": [
    "plt.figure(figsize=(14,10))\n",
    "plt.scatter(df['no_of_adults'], df[\"avg_price_per_room\"])"
   ]
  },
  {
   "cell_type": "code",
   "execution_count": 15,
   "id": "1ed9214a-52e6-477c-b5a7-9f094157357d",
   "metadata": {
    "tags": []
   },
   "outputs": [
    {
     "data": {
      "text/plain": [
       "[Text(0, 0, '11885'), Text(0, 0, '24390')]"
      ]
     },
     "execution_count": 15,
     "metadata": {},
     "output_type": "execute_result"
    },
    {
     "data": {
      "image/png": "[encoded data removed]",
      "text/plain": [
       "<Figure size 640x480 with 1 Axes>"
      ]
     },
     "metadata": {},
     "output_type": "display_data"
    }
   ],
   "source": [
    "ax = sns.countplot(x=df[\"booking_status_Not_Canceled\"])\n",
    "ax.set_xlabel(\"Booking Status Not Canceled\")\n",
    "plt.bar_label(ax.containers[0])"
   ]
  },
  {
   "cell_type": "markdown",
   "id": "93e96e84-3fed-4a9f-b582-f089cc38f732",
   "metadata": {},
   "source": [
    "We see about a 1:2 ratio between our target variable categories."
   ]
  },
  {
   "cell_type": "code",
   "execution_count": 16,
   "id": "83823b04-4e19-4119-9b78-bed0b3fb015c",
   "metadata": {},
   "outputs": [
    {
     "data": {
      "text/plain": [
       "<AxesSubplot: xlabel='no_of_week_nights', ylabel='count'>"
      ]
     },
     "execution_count": 16,
     "metadata": {},
     "output_type": "execute_result"
    },
    {
     "data": {
      "image/png": "[encoded data removed]",
      "text/plain": [
       "<Figure size 1600x1000 with 1 Axes>"
      ]
     },
     "metadata": {},
     "output_type": "display_data"
    }
   ],
   "source": [
    "plt.figure(figsize=(16,10))\n",
    "\n",
    "sns.countplot(x=\"no_of_week_nights\",data=df,hue=\"booking_status_Not_Canceled\")"
   ]
  },
  {
   "cell_type": "markdown",
   "id": "bea57941-362b-4faf-8759-3c9a8cb43da6",
   "metadata": {},
   "source": [
    "The disparity between booking cancellations and non-cancellations decreases as the number of week nights reserved increases. Eventually, the cancellations exceed the non-cancellations."
   ]
  },
  {
   "cell_type": "markdown",
   "id": "52782e48-ef54-4f87-b166-91e7e3ce5ed4",
   "metadata": {},
   "source": [
    "# Model Selection"
   ]
  },
  {
   "cell_type": "code",
   "execution_count": 17,
   "id": "c08fe224-e8b7-4e79-8f12-9f157d82ee39",
   "metadata": {},
   "outputs": [],
   "source": [
    "# Scale the data set\n",
    "from sklearn.preprocessing import StandardScaler\n",
    "scaler = StandardScaler()\n",
    "\n",
    "# Scale the non-binary columns\n",
    "columns_to_scale = ['no_of_adults', 'no_of_children', 'no_of_weekend_nights', 'no_of_week_nights', 'lead_time', \n",
    "                    'no_of_previous_cancellations', 'no_of_previous_bookings_not_canceled', 'avg_price_per_room',\n",
    "                   'no_of_special_requests']\n",
    "\n",
    "for col in columns_to_scale:\n",
    "    df[col] = scaler.fit_transform(df.loc[:,[col]])\n",
    "    \n",
    "X = df.drop('booking_status_Not_Canceled',axis=1)\n",
    "y = df['booking_status_Not_Canceled']\n"
   ]
  },
  {
   "cell_type": "code",
   "execution_count": 18,
   "id": "656b2001-a5d0-4d40-a8a6-f0be17d70145",
   "metadata": {},
   "outputs": [],
   "source": [
    "from sklearn.model_selection import train_test_split\n",
    "# Get 80% of the dataset as the training set. \n",
    "X_train, X_test, y_train, y_test = train_test_split(X, y, test_size=0.30, random_state=42)"
   ]
  },
  {
   "cell_type": "code",
   "execution_count": 19,
   "id": "8486ef7f-243b-40f8-8012-2432ac8eb6a0",
   "metadata": {},
   "outputs": [],
   "source": [
    "X_train_scaled = (X_train)\n",
    "X_test_scaled = (X_test)"
   ]
  },
  {
   "cell_type": "code",
   "execution_count": 20,
   "id": "1c60b152-f2ea-40db-94bc-15c9922ace7d",
   "metadata": {},
   "outputs": [
    {
     "data": {
      "text/plain": [
       "LogisticRegression(max_iter=1000)"
      ]
     },
     "execution_count": 20,
     "metadata": {},
     "output_type": "execute_result"
    }
   ],
   "source": [
    "model = LogisticRegression(max_iter=1000)\n",
    "model.fit(X_train_scaled, y_train)"
   ]
  },
  {
   "cell_type": "markdown",
   "id": "b57bdb19-aad1-4d35-8848-c37ce00b9e58",
   "metadata": {},
   "source": [
    "# Performance Metrics"
   ]
  },
  {
   "cell_type": "code",
   "execution_count": 21,
   "id": "c2d175eb-0763-4c76-8dfb-ece4a36dcfa5",
   "metadata": {},
   "outputs": [
    {
     "name": "stdout",
     "output_type": "stream",
     "text": [
      "Classification report for the training set: \n",
      "              precision    recall  f1-score   support\n",
      "\n",
      "           0       0.73      0.63      0.68      8278\n",
      "           1       0.83      0.89      0.86     17114\n",
      "\n",
      "    accuracy                           0.80     25392\n",
      "   macro avg       0.78      0.76      0.77     25392\n",
      "weighted avg       0.80      0.80      0.80     25392\n",
      "\n",
      "Classification report for the dev set: \n",
      "              precision    recall  f1-score   support\n",
      "\n",
      "           0       0.75      0.62      0.68      3607\n",
      "           1       0.83      0.90      0.86      7276\n",
      "\n",
      "    accuracy                           0.81     10883\n",
      "   macro avg       0.79      0.76      0.77     10883\n",
      "weighted avg       0.80      0.81      0.80     10883\n",
      "\n"
     ]
    }
   ],
   "source": [
    "from sklearn.metrics import classification_report\n",
    "\n",
    "y_pred = model.predict(X_train_scaled)\n",
    "print(\"Classification report for the training set: \")\n",
    "print(classification_report(y_train, y_pred))\n",
    "\n",
    "y_pred = model.predict(X_test_scaled)\n",
    "print(\"Classification report for the dev set: \")\n",
    "print(classification_report(y_test, y_pred))"
   ]
  },
  {
   "cell_type": "code",
   "execution_count": 22,
   "id": "294c32bc-a063-49ff-aaa9-8eb093df94ca",
   "metadata": {},
   "outputs": [
    {
     "name": "stdout",
     "output_type": "stream",
     "text": [
      "10-fold Cross Validation results for logistic regression:\n",
      "Accuracy: 0.805 (0.005)\n",
      "Precision: 0.831 (0.009)\n",
      "Recall: 0.891 (0.004)\n"
     ]
    }
   ],
   "source": [
    "# evaluate the pipeline with 10-fold cross validation\n",
    "cv = KFold(n_splits=10, shuffle = True, random_state=1)\n",
    "n_scores = cross_validate(model, X, y, scoring=['accuracy', 'precision', 'recall'], cv=cv, n_jobs=-1, error_score='raise')\n",
    "# report pipeline performance\n",
    "print(\"10-fold Cross Validation results for logistic regression:\")\n",
    "print(\"Accuracy: %.3f (%.3f)\" % (np.mean(n_scores['test_accuracy']), np.std(n_scores['test_accuracy'])))\n",
    "print(\"Precision: %.3f (%.3f)\" %  (np.mean(n_scores['test_precision']), np.std(n_scores['test_precision'])))\n",
    "print(\"Recall: %.3f (%.3f)\" %  (np.mean(n_scores['test_recall']), np.std(n_scores['test_recall'])))"
   ]
  },
  {
   "cell_type": "code",
   "execution_count": 23,
   "id": "0ce5c1af-778d-42c6-baad-6b84b4bfe8a5",
   "metadata": {},
   "outputs": [],
   "source": [
    "from sklearn.metrics import confusion_matrix\n",
    "\n",
    "# Compute the confusion matrix for the model\n",
    "cm = confusion_matrix(y_test,y_pred)"
   ]
  },
  {
   "cell_type": "code",
   "execution_count": 24,
   "id": "885f7ad4-9e9d-4818-88ff-3907b45d0693",
   "metadata": {},
   "outputs": [
    {
     "data": {
      "image/png": "[encoded data removed]",
      "text/plain": [
       "<Figure size 640x480 with 2 Axes>"
      ]
     },
     "metadata": {},
     "output_type": "display_data"
    }
   ],
   "source": [
    "# Plot the confusion matrix onto a heatmap to display\n",
    "ax= plt.subplot()\n",
    "sns.heatmap(cm, annot=True, fmt='g', ax=ax);  #annot=True to annotate cells, ftm='g' to disable scientific notation\n",
    "\n",
    "# labels, title and ticks\n",
    "ax.set_xlabel('Predicted labels');ax.set_ylabel('True labels'); \n",
    "ax.set_title('Confusion Matrix'); \n",
    "ax.xaxis.set_ticklabels(['Cancellation', 'Non-Cancellation']); ax.yaxis.set_ticklabels(['Cancellation', 'Non-Cancellation']);"
   ]
  },
  {
   "cell_type": "markdown",
   "id": "47c3faa4-87a2-4bd3-989c-f39c2c982d9b",
   "metadata": {},
   "source": [
    "Overfitting does not appear to be a problem in our model. The performance between the training set and test set are quite similar. However, our model's performance may be a bit underfit.\n",
    "\n",
    "Precision is probably the most important metric to measure in this application, since we care about being correct in our predicition that a customer will not honor their reservation. It matters more that we predict correctly than to miss some cancellations, because a hotel would not want to overbook rooms (that would result in unhappy customer).\n",
    "\n",
    "Precision for predicting cancellations reaches roughly a 73-75% score. "
   ]
  },
  {
   "cell_type": "markdown",
   "id": "5c07adb5-4b1d-4f50-9dd9-958273256b04",
   "metadata": {},
   "source": [
    "# Polynomial Features\n",
    "\n",
    "Let's add polynomial features and see if this improves our model. For the sake of computing time, we will keep it to degree of 2."
   ]
  },
  {
   "cell_type": "code",
   "execution_count": 25,
   "id": "2b82311f-fd0d-4355-92ad-75e7d7b0aeb3",
   "metadata": {},
   "outputs": [],
   "source": [
    "from sklearn.preprocessing import PolynomialFeatures\n",
    "from sklearn.pipeline import Pipeline\n",
    "\n",
    "model = LogisticRegression(max_iter=10000)\n",
    "\n",
    "# define the pipeline\n",
    "trans = PolynomialFeatures(degree=2)\n",
    "pipeline = Pipeline(steps=[('t', trans), ('m', model)])"
   ]
  },
  {
   "cell_type": "code",
   "execution_count": 26,
   "id": "a214ec01-40fb-4e09-80ef-4f073393ea08",
   "metadata": {},
   "outputs": [
    {
     "data": {
      "text/plain": [
       "Pipeline(steps=[('t', PolynomialFeatures()),\n",
       "                ('m', LogisticRegression(max_iter=10000))])"
      ]
     },
     "execution_count": 26,
     "metadata": {},
     "output_type": "execute_result"
    }
   ],
   "source": [
    "pipeline.fit(X_train_scaled, y_train)"
   ]
  },
  {
   "cell_type": "code",
   "execution_count": 27,
   "id": "7ebe06f1-d1f2-4379-b8bb-965cb4010e74",
   "metadata": {},
   "outputs": [
    {
     "name": "stdout",
     "output_type": "stream",
     "text": [
      "Classification report for polynomial features of degree 2\n",
      "\n",
      "Classification report for the training set: \n",
      "              precision    recall  f1-score   support\n",
      "\n",
      "           0       0.78      0.68      0.73      8278\n",
      "           1       0.86      0.91      0.88     17114\n",
      "\n",
      "    accuracy                           0.83     25392\n",
      "   macro avg       0.82      0.79      0.80     25392\n",
      "weighted avg       0.83      0.83      0.83     25392\n",
      "\n",
      "Classification report for the dev set: \n",
      "              precision    recall  f1-score   support\n",
      "\n",
      "           0       0.78      0.67      0.72      3607\n",
      "           1       0.85      0.91      0.88      7276\n",
      "\n",
      "    accuracy                           0.83     10883\n",
      "   macro avg       0.81      0.79      0.80     10883\n",
      "weighted avg       0.83      0.83      0.83     10883\n",
      "\n"
     ]
    }
   ],
   "source": [
    "from sklearn.metrics import classification_report\n",
    "\n",
    "print(\"Classification report for polynomial features of degree 2\\n\")\n",
    "y_pred = pipeline.predict(X_train_scaled)\n",
    "print(\"Classification report for the training set: \")\n",
    "print(classification_report(y_train, y_pred))\n",
    "\n",
    "y_pred = pipeline.predict(X_test_scaled)\n",
    "print(\"Classification report for the dev set: \")\n",
    "print(classification_report(y_test, y_pred))"
   ]
  },
  {
   "cell_type": "code",
   "execution_count": 28,
   "id": "a9e9d906-c854-486c-8739-c2df9b60ca51",
   "metadata": {},
   "outputs": [
    {
     "name": "stdout",
     "output_type": "stream",
     "text": [
      "10-fold Cross Validation results for (degree 2) logistic regression:\n",
      "Accuracy: 0.826 (0.003)\n",
      "Precision: 0.851 (0.008)\n",
      "Recall: 0.897 (0.004)\n"
     ]
    }
   ],
   "source": [
    "# evaluate the pipeline with 10-fold cross validation\n",
    "cv = KFold(n_splits=10, shuffle = True, random_state=1)\n",
    "n_scores = cross_validate(pipeline, X, y, scoring=['accuracy', 'precision', 'recall'], cv=cv, n_jobs=-1, error_score='raise')\n",
    "# report pipeline performance\n",
    "print(\"10-fold Cross Validation results for (degree 2) logistic regression:\")\n",
    "print(\"Accuracy: %.3f (%.3f)\" % (np.mean(n_scores['test_accuracy']), np.std(n_scores['test_accuracy'])))\n",
    "print(\"Precision: %.3f (%.3f)\" %  (np.mean(n_scores['test_precision']), np.std(n_scores['test_precision'])))\n",
    "print(\"Recall: %.3f (%.3f)\" %  (np.mean(n_scores['test_recall']), np.std(n_scores['test_recall'])))"
   ]
  },
  {
   "cell_type": "markdown",
   "id": "bce15d94-41f1-41ba-abdc-f1b991039812",
   "metadata": {},
   "source": [
    "The accuracy and precision of our model increased by about 2% when polynomial features of degree 2 were added to the data. Overall, adding these features improved the performance of our learning algorithm."
   ]
  },
  {
   "cell_type": "code",
   "execution_count": null,
   "id": "f3c529b0-1321-40fe-9765-86ad0964cc01",
   "metadata": {},
   "outputs": [],
   "source": []
  }
 ],
 "metadata": {
  "kernelspec": {
   "display_name": "Python 3 (ipykernel)",
   "language": "python",
   "name": "python3"
  },
  "language_info": {
   "codemirror_mode": {
    "name": "ipython",
    "version": 3
   },
   "file_extension": ".py",
   "mimetype": "text/x-python",
   "name": "python",
   "nbconvert_exporter": "python",
   "pygments_lexer": "ipython3",
   "version": "3.9.15"
  }
 },
 "nbformat": 4,
 "nbformat_minor": 5
}
